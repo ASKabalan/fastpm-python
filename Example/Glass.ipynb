{
 "cells": [
  {
   "cell_type": "code",
   "execution_count": 1,
   "metadata": {},
   "outputs": [
    {
     "name": "stdout",
     "output_type": "stream",
     "text": [
      "Populating the interactive namespace from numpy and matplotlib\n"
     ]
    }
   ],
   "source": [
    "%pylab inline"
   ]
  },
  {
   "cell_type": "code",
   "execution_count": 2,
   "metadata": {},
   "outputs": [],
   "source": [
    "import sys\n",
    "sys.path.insert(0, '../')"
   ]
  },
  {
   "cell_type": "code",
   "execution_count": 3,
   "metadata": {},
   "outputs": [],
   "source": [
    "from fastpm import core\n",
    "import numpy\n",
    "from fastpm.core import leapfrog\n",
    "\n",
    "from pmesh.pm import ParticleMesh\n",
    "from nbodykit.cosmology import Planck15\n",
    "from kdcount import KDTree"
   ]
  },
  {
   "cell_type": "code",
   "execution_count": 52,
   "metadata": {},
   "outputs": [],
   "source": [
    "from fastpm import core\n",
    "class Solver(core.Solver):\n",
    "    def __init__(self, pm, B=2):\n",
    "        fpm = ParticleMesh(Nmesh=pm.Nmesh * B, BoxSize=pm.BoxSize, dtype=pm.dtype, comm=pm.comm, resampler=pm.resampler)\n",
    "        self.pm = pm\n",
    "        self.fpm = fpm\n",
    "        self.cosmology = Planck15 # any will do\n",
    "\n",
    "    @property\n",
    "    def nbodystep(self):\n",
    "        return GlassStep(self)\n",
    "    \n",
    "    def glass(self, seed, Q):\n",
    "        rng = numpy.random.RandomState(seed + self.pm.comm.rank)\n",
    "        nbar = 1 / (self.pm.BoxSize.prod() / self.pm.comm.allreduce(len(Q)))\n",
    "\n",
    "        # a spread of 3 will kill most of the anisotropiness of the Q grid.\n",
    "        Q = Q \n",
    "\n",
    "        state = core.StateVector(self, Q)\n",
    "        # add a uniform random displacement\n",
    "        state.S[...] = + 3 * (rng.uniform(size=Q.shape) -0.5) * (nbar ** -0.3333333)\n",
    "        state.P[...] = 0\n",
    "        state.F[...] = 0\n",
    "        state.a['S'] = 0\n",
    "        state.a['P'] = 0\n",
    "\n",
    "        N = 3\n",
    "\n",
    "        stages = numpy.linspace(0, numpy.pi * 2 * (N + 0.25), int(4 * (N + 0.25) + 1))\n",
    "\n",
    "        self.nbody(state, leapfrog(stages))\n",
    "\n",
    "        return state\n",
    "\n",
    "class GlassStep(core.FastPMStep):\n",
    "    def Kick(self, state, ai, ac, af):\n",
    "        fac = (af - ai)\n",
    "        # add a damping term\n",
    "        state.P[...] = state.P[...] + fac * (state.F[...] - state.P[...])\n",
    "        state.a['P'] = af\n",
    "\n",
    "    def Drift(self, state, ai, ac, af):\n",
    "        fac = (af - ai)\n",
    "        state.S[...] = (state.S[...] + fac * state.P[...]) #% self.pm.BoxSize\n",
    "        state.a['S'] = af\n",
    "        print(state.S.std(axis=0), state.S[0])\n",
    "\n",
    "    def Force(self, state, ai, ac, af):\n",
    "        from fastpm.force.gravity import longrange\n",
    "        nbar = 1.0 * state.csize / self.pm.Nmesh.prod()\n",
    "\n",
    "        X = state.X\n",
    "\n",
    "        layout = self.pm.decompose(X, smoothing=None)\n",
    "\n",
    "        X1 = layout.exchange(X)\n",
    "\n",
    "        rho = self.pm.paint(X1)\n",
    "        rho /= nbar # 1 + delta\n",
    "        delta_k = rho.r2c(out=Ellipsis)\n",
    "\n",
    "        # - to invert the gravity direction.\n",
    "        state.F[...] = - layout.gather(longrange(X1, delta_k, split=0, factor=1.0))\n",
    "\n",
    "        state.a['F'] = af\n",
    "        return\n"
   ]
  },
  {
   "cell_type": "code",
   "execution_count": 5,
   "metadata": {},
   "outputs": [],
   "source": [
    "from nbodykit.cosmology.background import MatterDominated"
   ]
  },
  {
   "cell_type": "code",
   "execution_count": 6,
   "metadata": {},
   "outputs": [],
   "source": [
    "pt = MatterDominated(0.3)"
   ]
  },
  {
   "cell_type": "code",
   "execution_count": 7,
   "metadata": {},
   "outputs": [
    {
     "data": {
      "text/plain": [
       "1.0"
      ]
     },
     "execution_count": 7,
     "metadata": {},
     "output_type": "execute_result"
    }
   ],
   "source": [
    "pt.efunc(1.0)"
   ]
  },
  {
   "cell_type": "code",
   "execution_count": 44,
   "metadata": {},
   "outputs": [],
   "source": [
    "pm = ParticleMesh(BoxSize=512., Nmesh=[64, 64, 64])\n",
    "\n",
    "def test_solver(stages, B=2, usetree=False):\n",
    "    solver= Solver(pm, B)\n",
    "    Q = pm.generate_uniform_particle_grid()\n",
    "    state = solver.glass(3333, Q)\n",
    "    \n",
    "    return state\n"
   ]
  },
  {
   "cell_type": "code",
   "execution_count": 9,
   "metadata": {},
   "outputs": [],
   "source": [
    "from nbodykit.lab import *"
   ]
  },
  {
   "cell_type": "code",
   "execution_count": null,
   "metadata": {},
   "outputs": [],
   "source": []
  },
  {
   "cell_type": "code",
   "execution_count": 10,
   "metadata": {},
   "outputs": [
    {
     "name": "stderr",
     "output_type": "stream",
     "text": [
      "/home/yfeng1/anaconda3/install/lib/python3.6/site-packages/ipykernel_launcher.py:1: DeprecationWarning: object of type <class 'float'> cannot be safely interpreted as an integer.\n",
      "  \"\"\"Entry point for launching an IPython kernel.\n"
     ]
    },
    {
     "data": {
      "text/plain": [
       "array([0.  , 0.25, 0.5 , 0.75, 1.  , 1.25, 1.5 , 1.75, 2.  , 2.25, 2.5 ,\n",
       "       2.75, 3.  , 3.25, 3.5 , 3.75, 4.  , 4.25])"
      ]
     },
     "execution_count": 10,
     "metadata": {},
     "output_type": "execute_result"
    }
   ],
   "source": [
    "linspace(0, 4 + 0.25, 4 * (4 + 0.25) + 1, endpoint=True)"
   ]
  },
  {
   "cell_type": "code",
   "execution_count": 55,
   "metadata": {},
   "outputs": [
    {
     "data": {
      "text/plain": [
       "14"
      ]
     },
     "execution_count": 55,
     "metadata": {},
     "output_type": "execute_result"
    }
   ],
   "source": [
    "int(4 * (3 + 0.25) + 1 + 0.5)"
   ]
  },
  {
   "cell_type": "code",
   "execution_count": 58,
   "metadata": {},
   "outputs": [
    {
     "data": {
      "text/plain": [
       "array([ 0.,  1.,  2.,  3.,  4.,  5.,  6.,  7.,  8.,  9., 10., 11., 12.,\n",
       "       13.])"
      ]
     },
     "execution_count": 58,
     "metadata": {},
     "output_type": "execute_result"
    }
   ],
   "source": [
    "numpy.linspace(0.0, numpy.pi * 2 * (3 + 0.25), int(4 * (3 + 0.25) + 1 + 0.5)) / (2 * pi) * 4"
   ]
  },
  {
   "cell_type": "code",
   "execution_count": 60,
   "metadata": {},
   "outputs": [],
   "source": [
    "cat = state.to_catalog(attrs={'BoxSize' :  state.pm.BoxSize})"
   ]
  },
  {
   "cell_type": "code",
   "execution_count": 61,
   "metadata": {},
   "outputs": [],
   "source": [
    "cat['Value'] = cat['Velocity'][:, 1]"
   ]
  },
  {
   "cell_type": "code",
   "execution_count": 62,
   "metadata": {},
   "outputs": [],
   "source": [
    "vmean = cat.to_mesh(Nmesh=32).compute()"
   ]
  },
  {
   "cell_type": "code",
   "execution_count": 66,
   "metadata": {},
   "outputs": [
    {
     "data": {
      "text/plain": [
       "<matplotlib.image.AxesImage at 0x7f53f3f899e8>"
      ]
     },
     "execution_count": 66,
     "metadata": {},
     "output_type": "execute_result"
    },
    {
     "data": {
      "image/png": "[encoded data removed]",
      "text/plain": [
       "<Figure size 432x288 with 1 Axes>"
      ]
     },
     "metadata": {
      "needs_background": "light"
     },
     "output_type": "display_data"
    }
   ],
   "source": [
    "imshow(vmean[...].sum(axis=-1))"
   ]
  },
  {
   "cell_type": "code",
   "execution_count": 53,
   "metadata": {},
   "outputs": [
    {
     "name": "stdout",
     "output_type": "stream",
     "text": [
      "------\n",
      "[6.92652463 6.93060831 6.91923461] [ 6.03781332 -9.37796744 -0.33308923]\n",
      "[7.29609648 7.30182701 7.2838495 ] [  6.33869706 -12.69140142  -4.08777871]\n",
      "[7.1769153  7.1841839  7.16220716] [  3.74089167 -10.0206726   -2.8812157 ]\n",
      "[7.19736737 7.20514622 7.18326842] [  4.47698217 -10.07783709  -2.99050095]\n",
      "[7.20729759 7.21425538 7.19270873] [ 4.03904091 -9.49481548 -2.84567331]\n",
      "[7.2247013  7.23151258 7.20973241] [ 4.09825263 -9.36113561 -2.59380095]\n",
      "[7.23862206 7.24557298 7.22352535] [ 4.09634949 -9.2057102  -2.44068745]\n",
      "[7.25218121 7.2592226  7.2369077 ] [ 4.13818718 -9.17051132 -2.32399745]\n",
      "[7.26451818 7.27159877 7.24903625] [ 4.14706243 -9.14736891 -2.26597132]\n",
      "[7.27606886 7.28317592 7.26026073] [ 4.13402017 -9.12537862 -2.20831188]\n",
      "[7.28680967 7.29393277 7.27061578] [ 4.12621915 -9.09049281 -2.16383454]\n",
      "[7.29687009 7.30403044 7.28030282] [ 4.14130166 -9.04770472 -2.1326345 ]\n",
      "[7.30634234 7.31357045 7.28944094] [ 4.17739382 -9.00603583 -2.14087457]\n",
      "[7.30634234 7.31357045 7.28944094]\n",
      "------\n"
     ]
    },
    {
     "data": {
      "image/png": "[encoded data removed]",
      "text/plain": [
       "<Figure size 432x288 with 1 Axes>"
      ]
     },
     "metadata": {
      "needs_background": "light"
     },
     "output_type": "display_data"
    }
   ],
   "source": [
    "print('------')\n",
    "state = test_solver(numpy.linspace(0.0, numpy.pi * 2 * (3 + 0.25), int(4 * (3 + 0.25) + 1 + 0.5)), B=2, usetree=False)\n",
    "r = FFTPower(state.to_catalog(attrs={'BoxSize' :  state.pm.BoxSize}), mode='1d', Nmesh=256)\n",
    "plot(r.power['k'], r.power['power'])\n",
    "print(state.S.std(axis=0))\n",
    "print('------')\n"
   ]
  },
  {
   "cell_type": "code",
   "execution_count": 42,
   "metadata": {},
   "outputs": [
    {
     "data": {
      "text/plain": [
       "<matplotlib.legend.Legend at 0x7f53fcd4fcc0>"
      ]
     },
     "execution_count": 42,
     "metadata": {},
     "output_type": "execute_result"
    },
    {
     "data": {
      "image/png": "[encoded data removed]",
      "text/plain": [
       "<Figure size 432x288 with 1 Axes>"
      ]
     },
     "metadata": {
      "needs_background": "light"
     },
     "output_type": "display_data"
    }
   ],
   "source": [
    "plot(r.power['k'], r.power['power'], label='Glass : Nmesh=2 Ngrid 14 stages')\n",
    "plot(r.power['k'], r.power['k'] ** 4 * r.power.sel(method='nearest', k=[1.])['power'].real, label='k**4')\n",
    "axhline(1  / (pm.Nmesh / pm.BoxSize).prod(), label='shot-noise', ls='--', color='green')\n",
    "axvline(2 * pi / pm.BoxSize[0] * pm.Nmesh[0] / 2, label='grid nyquist', ls='--', color='k')\n",
    "yscale('log')\n",
    "xscale('log')\n",
    "xlabel('k')\n",
    "ylabel('P')\n",
    "legend()"
   ]
  },
  {
   "cell_type": "code",
   "execution_count": 2,
   "metadata": {},
   "outputs": [
    {
     "ename": "NameError",
     "evalue": "name 'plot' is not defined",
     "output_type": "error",
     "traceback": [
      "\u001b[0;31m---------------------------------------------------------------------------\u001b[0m",
      "\u001b[0;31mNameError\u001b[0m                                 Traceback (most recent call last)",
      "\u001b[0;32m<ipython-input-2-6dfb7c78b85c>\u001b[0m in \u001b[0;36m<module>\u001b[0;34m\u001b[0m\n\u001b[0;32m----> 1\u001b[0;31m \u001b[0mplot\u001b[0m\u001b[0;34m(\u001b[0m\u001b[0mstate\u001b[0m\u001b[0;34m.\u001b[0m\u001b[0mX\u001b[0m\u001b[0;34m[\u001b[0m\u001b[0;34m:\u001b[0m\u001b[0;34m,\u001b[0m \u001b[0;36m0\u001b[0m\u001b[0;34m]\u001b[0m\u001b[0;34m[\u001b[0m\u001b[0;34m:\u001b[0m\u001b[0;34m:\u001b[0m\u001b[0;36m1000\u001b[0m\u001b[0;34m]\u001b[0m\u001b[0;34m,\u001b[0m \u001b[0mstate\u001b[0m\u001b[0;34m.\u001b[0m\u001b[0mX\u001b[0m\u001b[0;34m[\u001b[0m\u001b[0;34m:\u001b[0m\u001b[0;34m,\u001b[0m \u001b[0;36m1\u001b[0m\u001b[0;34m]\u001b[0m\u001b[0;34m[\u001b[0m\u001b[0;34m:\u001b[0m\u001b[0;34m:\u001b[0m\u001b[0;36m1000\u001b[0m\u001b[0;34m]\u001b[0m\u001b[0;34m,\u001b[0m \u001b[0;34m'.'\u001b[0m\u001b[0;34m)\u001b[0m\u001b[0;34m\u001b[0m\u001b[0;34m\u001b[0m\u001b[0m\n\u001b[0m",
      "\u001b[0;31mNameError\u001b[0m: name 'plot' is not defined"
     ]
    }
   ],
   "source": [
    "plot(state.X[:, 0][::1000], state.X[:, 1][::1000], '.')"
   ]
  },
  {
   "cell_type": "code",
   "execution_count": 138,
   "metadata": {},
   "outputs": [
    {
     "data": {
      "image/png": "[encoded data removed]",
      "text/plain": [
       "<Figure size 432x288 with 1 Axes>"
      ]
     },
     "metadata": {
      "needs_background": "light"
     },
     "output_type": "display_data"
    }
   ],
   "source": [
    "plot(r.power['k'], r.power['power'])\n",
    "plot(r.power['k'], r.power['k'] ** 4 * r.power.sel(method='nearest', k=[1.])['power'].real)\n",
    "axhline(1  / (pm.Nmesh / pm.BoxSize).prod())\n",
    "axvline(2 * pi / pm.BoxSize[0] * pm.Nmesh[0] / 2)\n",
    "yscale('log')\n",
    "xscale('log')"
   ]
  },
  {
   "cell_type": "code",
   "execution_count": 126,
   "metadata": {},
   "outputs": [
    {
     "data": {
      "image/png": "[encoded data removed]",
      "text/plain": [
       "<Figure size 432x288 with 1 Axes>"
      ]
     },
     "metadata": {
      "needs_background": "light"
     },
     "output_type": "display_data"
    }
   ],
   "source": [
    "plot(r.power['k'], r.power['power'])\n",
    "plot(r.power['k'], r.power['k'] ** 3 * r.power.sel(method='nearest', k=[1.])['power'].real)\n",
    "axhline(1  / (pm.Nmesh / pm.BoxSize).prod())\n",
    "axvline(2 * pi / pm.BoxSize[0] * pm.Nmesh[0] / 2)\n",
    "yscale('log')\n",
    "xscale('log')"
   ]
  },
  {
   "cell_type": "code",
   "execution_count": null,
   "metadata": {},
   "outputs": [],
   "source": []
  },
  {
   "cell_type": "code",
   "execution_count": 42,
   "metadata": {},
   "outputs": [
    {
     "data": {
      "text/plain": [
       "1.5707963267948966"
      ]
     },
     "execution_count": 42,
     "metadata": {},
     "output_type": "execute_result"
    }
   ],
   "source": [
    "2 * pi / 128. * 32"
   ]
  },
  {
   "cell_type": "code",
   "execution_count": 109,
   "metadata": {},
   "outputs": [],
   "source": [
    "h, b, b = histogram2d(state.X[:, 0] % 128, state.X[:, 1] %128, bins=32)"
   ]
  },
  {
   "cell_type": "code",
   "execution_count": 112,
   "metadata": {},
   "outputs": [
    {
     "data": {
      "text/plain": [
       "(array([  1.,   8.,  23.,  92., 134., 309., 267., 110.,  63.,  17.]),\n",
       " array([17. , 19.6, 22.2, 24.8, 27.4, 30. , 32.6, 35.2, 37.8, 40.4, 43. ]),\n",
       " <a list of 10 Patch objects>)"
      ]
     },
     "execution_count": 112,
     "metadata": {},
     "output_type": "execute_result"
    },
    {
     "data": {
      "image/png": "[encoded data removed]",
      "text/plain": [
       "<Figure size 432x288 with 1 Axes>"
      ]
     },
     "metadata": {
      "needs_background": "light"
     },
     "output_type": "display_data"
    }
   ],
   "source": [
    "hist(h.flat)"
   ]
  },
  {
   "cell_type": "code",
   "execution_count": null,
   "metadata": {},
   "outputs": [],
   "source": []
  }
 ],
 "metadata": {
  "kernelspec": {
   "display_name": "Python 3",
   "language": "python",
   "name": "python3"
  },
  "language_info": {
   "codemirror_mode": {
    "name": "ipython",
    "version": 3
   },
   "file_extension": ".py",
   "mimetype": "text/x-python",
   "name": "python",
   "nbconvert_exporter": "python",
   "pygments_lexer": "ipython3",
   "version": "3.6.8"
  }
 },
 "nbformat": 4,
 "nbformat_minor": 2
}
